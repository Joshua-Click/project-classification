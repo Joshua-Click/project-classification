{
 "cells": [
  {
   "cell_type": "code",
   "execution_count": 51,
   "metadata": {},
   "outputs": [],
   "source": [
    "from pydataset import data\n",
    "import pandas as pd\n",
    "import numpy as np\n",
    "import seaborn as sns\n",
    "import matplotlib.pyplot as plt\n",
    "\n",
    "from sklearn.model_selection import train_test_split\n",
    "from sklearn.impute import SimpleImputer\n",
    "\n",
    "import warnings\n",
    "warnings.filterwarnings('ignore')\n",
    "\n",
    "import acquire"
   ]
  },
  {
   "cell_type": "code",
   "execution_count": 34,
   "metadata": {},
   "outputs": [
    {
     "name": "stdout",
     "output_type": "stream",
     "text": [
      "   payment_type_id  internet_service_type_id  contract_type_id customer_id  \\\n",
      "0                2                         1                 2  0002-ORFBO   \n",
      "1                2                         1                 1  0003-MKNFE   \n",
      "2                1                         2                 1  0004-TLHLJ   \n",
      "3                1                         2                 1  0011-IGKFF   \n",
      "4                2                         2                 1  0013-EXCHZ   \n",
      "\n",
      "   gender  senior_citizen partner dependents  tenure phone_service  ...  \\\n",
      "0  Female               0     Yes        Yes       9           Yes  ...   \n",
      "1    Male               0      No         No       9           Yes  ...   \n",
      "2    Male               0      No         No       4           Yes  ...   \n",
      "3    Male               1     Yes         No      13           Yes  ...   \n",
      "4  Female               1     Yes         No       3           Yes  ...   \n",
      "\n",
      "  tech_support streaming_tv streaming_movies paperless_billing  \\\n",
      "0          Yes          Yes               No               Yes   \n",
      "1           No           No              Yes                No   \n",
      "2           No           No               No               Yes   \n",
      "3           No          Yes              Yes               Yes   \n",
      "4          Yes          Yes               No               Yes   \n",
      "\n",
      "  monthly_charges total_charges churn   contract_type  internet_service_type  \\\n",
      "0            65.6         593.3    No        One year                    DSL   \n",
      "1            59.9         542.4    No  Month-to-month                    DSL   \n",
      "2            73.9        280.85   Yes  Month-to-month            Fiber optic   \n",
      "3            98.0       1237.85   Yes  Month-to-month            Fiber optic   \n",
      "4            83.9         267.4   Yes  Month-to-month            Fiber optic   \n",
      "\n",
      "       payment_type  \n",
      "0      Mailed check  \n",
      "1      Mailed check  \n",
      "2  Electronic check  \n",
      "3  Electronic check  \n",
      "4      Mailed check  \n",
      "\n",
      "[5 rows x 24 columns]\n"
     ]
    }
   ],
   "source": [
    "# Start by importing telco data from acquire.py\n",
    "df = acquire.get_telco_data()\n",
    "print(df.head())"
   ]
  },
  {
   "cell_type": "code",
   "execution_count": 35,
   "metadata": {},
   "outputs": [
    {
     "name": "stdout",
     "output_type": "stream",
     "text": [
      "First 3 rows of the dataframe:\n",
      "   payment_type_id  internet_service_type_id  contract_type_id customer_id  \\\n",
      "0                2                         1                 2  0002-ORFBO   \n",
      "1                2                         1                 1  0003-MKNFE   \n",
      "2                1                         2                 1  0004-TLHLJ   \n",
      "\n",
      "   gender  senior_citizen partner dependents  tenure phone_service  ...  \\\n",
      "0  Female               0     Yes        Yes       9           Yes  ...   \n",
      "1    Male               0      No         No       9           Yes  ...   \n",
      "2    Male               0      No         No       4           Yes  ...   \n",
      "\n",
      "  tech_support streaming_tv streaming_movies paperless_billing  \\\n",
      "0          Yes          Yes               No               Yes   \n",
      "1           No           No              Yes                No   \n",
      "2           No           No               No               Yes   \n",
      "\n",
      "  monthly_charges total_charges churn   contract_type  internet_service_type  \\\n",
      "0            65.6         593.3    No        One year                    DSL   \n",
      "1            59.9         542.4    No  Month-to-month                    DSL   \n",
      "2            73.9        280.85   Yes  Month-to-month            Fiber optic   \n",
      "\n",
      "       payment_type  \n",
      "0      Mailed check  \n",
      "1      Mailed check  \n",
      "2  Electronic check  \n",
      "\n",
      "[3 rows x 24 columns]\n",
      "~~~~~~~~~~~~~~\n",
      "Number of Rows and Cols in DF:\n",
      "Rows: 7043, Cols: 24\n",
      "~~~~~~~~~~~~~~\n",
      "Column Names:\n",
      "payment_type_id\n",
      "internet_service_type_id\n",
      "contract_type_id\n",
      "customer_id\n",
      "gender\n",
      "senior_citizen\n",
      "partner\n",
      "dependents\n",
      "tenure\n",
      "phone_service\n",
      "multiple_lines\n",
      "online_security\n",
      "online_backup\n",
      "device_protection\n",
      "tech_support\n",
      "streaming_tv\n",
      "streaming_movies\n",
      "paperless_billing\n",
      "monthly_charges\n",
      "total_charges\n",
      "churn\n",
      "contract_type\n",
      "internet_service_type\n",
      "payment_type\n",
      "~~~~~~~~~~~~~~\n",
      "payment_type_id - datatype: int64\n",
      "internet_service_type_id - datatype: int64\n",
      "contract_type_id - datatype: int64\n",
      "customer_id - datatype: object\n",
      "gender - datatype: object\n",
      "senior_citizen - datatype: int64\n",
      "partner - datatype: object\n",
      "dependents - datatype: object\n",
      "tenure - datatype: int64\n",
      "phone_service - datatype: object\n",
      "multiple_lines - datatype: object\n",
      "online_security - datatype: object\n",
      "online_backup - datatype: object\n",
      "device_protection - datatype: object\n",
      "tech_support - datatype: object\n",
      "streaming_tv - datatype: object\n",
      "streaming_movies - datatype: object\n",
      "paperless_billing - datatype: object\n",
      "monthly_charges - datatype: float64\n",
      "total_charges - datatype: object\n",
      "churn - datatype: object\n",
      "contract_type - datatype: object\n",
      "internet_service_type - datatype: object\n",
      "payment_type - datatype: object\n",
      "~~~~~~~~~~~~~~\n",
      "                           count       mean        std    min   25%    50%  \\\n",
      "payment_type_id           7043.0   2.315633   1.148907   1.00   1.0   2.00   \n",
      "internet_service_type_id  7043.0   1.872923   0.737796   1.00   1.0   2.00   \n",
      "contract_type_id          7043.0   1.690473   0.833755   1.00   1.0   1.00   \n",
      "senior_citizen            7043.0   0.162147   0.368612   0.00   0.0   0.00   \n",
      "tenure                    7043.0  32.371149  24.559481   0.00   9.0  29.00   \n",
      "monthly_charges           7043.0  64.761692  30.090047  18.25  35.5  70.35   \n",
      "\n",
      "                            75%     max  \n",
      "payment_type_id            3.00    4.00  \n",
      "internet_service_type_id   2.00    3.00  \n",
      "contract_type_id           2.00    3.00  \n",
      "senior_citizen             0.00    1.00  \n",
      "tenure                    55.00   72.00  \n",
      "monthly_charges           89.85  118.75  \n",
      "~~~~~~~~~~~~~~\n",
      "Descriptive stats for Object Variables: \n",
      "                      count unique               top  freq\n",
      "customer_id            7043   7043        0002-ORFBO     1\n",
      "gender                 7043      2              Male  3555\n",
      "partner                7043      2                No  3641\n",
      "dependents             7043      2                No  4933\n",
      "phone_service          7043      2               Yes  6361\n",
      "multiple_lines         7043      3                No  3390\n",
      "online_security        7043      3                No  3498\n",
      "online_backup          7043      3                No  3088\n",
      "device_protection      7043      3                No  3095\n",
      "tech_support           7043      3                No  3473\n",
      "streaming_tv           7043      3                No  2810\n",
      "streaming_movies       7043      3                No  2785\n",
      "paperless_billing      7043      2               Yes  4171\n",
      "total_charges          7043   6531                      11\n",
      "churn                  7043      2                No  5174\n",
      "contract_type          7043      3    Month-to-month  3875\n",
      "internet_service_type  5517      2       Fiber optic  3096\n",
      "payment_type           7043      4  Electronic check  2365\n",
      "~~~~~~~~~~~~~~\n",
      "Column customer_id has too many uniques (7043) to display\n",
      " gender:  ['Female' 'Male']\n",
      " partner:  ['Yes' 'No']\n",
      " dependents:  ['Yes' 'No']\n",
      " phone_service:  ['Yes' 'No']\n",
      " multiple_lines:  ['No' 'Yes' 'No phone service']\n",
      " online_security:  ['No' 'Yes' 'No internet service']\n",
      " online_backup:  ['Yes' 'No' 'No internet service']\n",
      " device_protection:  ['No' 'Yes' 'No internet service']\n",
      " tech_support:  ['Yes' 'No' 'No internet service']\n",
      " streaming_tv:  ['Yes' 'No' 'No internet service']\n",
      " streaming_movies:  ['No' 'Yes' 'No internet service']\n",
      " paperless_billing:  ['Yes' 'No']\n",
      "Column total_charges has too many uniques (6531) to display\n",
      " churn:  ['No' 'Yes']\n",
      " contract_type:  ['One year' 'Month-to-month' 'Two year']\n",
      " internet_service_type:  ['DSL' 'Fiber optic' nan]\n",
      " payment_type:  ['Mailed check' 'Electronic check' 'Credit card (automatic)'\n",
      " 'Bank transfer (automatic)']\n"
     ]
    }
   ],
   "source": [
    "acquire.get_summary(df)"
   ]
  },
  {
   "cell_type": "code",
   "execution_count": 36,
   "metadata": {},
   "outputs": [],
   "source": [
    "# drop duplicate columns\n",
    "df = df.drop(columns =['payment_type_id','internet_service_type_id','contract_type_id'])"
   ]
  },
  {
   "cell_type": "code",
   "execution_count": 37,
   "metadata": {},
   "outputs": [],
   "source": [
    "# change total_charges to a float and get rid of nulls\n",
    "df.total_charges = df.total_charges.str.replace(' ', '0').astype(float)"
   ]
  },
  {
   "cell_type": "code",
   "execution_count": 39,
   "metadata": {},
   "outputs": [
    {
     "name": "stdout",
     "output_type": "stream",
     "text": [
      "<class 'pandas.core.series.Series'>\n",
      "RangeIndex: 7043 entries, 0 to 7042\n",
      "Series name: total_charges\n",
      "Non-Null Count  Dtype  \n",
      "--------------  -----  \n",
      "7043 non-null   float64\n",
      "dtypes: float64(1)\n",
      "memory usage: 55.2 KB\n"
     ]
    }
   ],
   "source": [
    "df.total_charges.info()"
   ]
  },
  {
   "cell_type": "code",
   "execution_count": 43,
   "metadata": {},
   "outputs": [],
   "source": [
    "# determined that customer id has no relevant use other than a possible \n",
    "# index so I dropped it\n",
    "df.drop(columns='customer_id', inplace=True)"
   ]
  },
  {
   "cell_type": "code",
   "execution_count": 44,
   "metadata": {},
   "outputs": [
    {
     "data": {
      "text/html": [
       "<div>\n",
       "<style scoped>\n",
       "    .dataframe tbody tr th:only-of-type {\n",
       "        vertical-align: middle;\n",
       "    }\n",
       "\n",
       "    .dataframe tbody tr th {\n",
       "        vertical-align: top;\n",
       "    }\n",
       "\n",
       "    .dataframe thead th {\n",
       "        text-align: right;\n",
       "    }\n",
       "</style>\n",
       "<table border=\"1\" class=\"dataframe\">\n",
       "  <thead>\n",
       "    <tr style=\"text-align: right;\">\n",
       "      <th></th>\n",
       "      <th>gender</th>\n",
       "      <th>senior_citizen</th>\n",
       "      <th>partner</th>\n",
       "      <th>dependents</th>\n",
       "      <th>tenure</th>\n",
       "      <th>phone_service</th>\n",
       "      <th>multiple_lines</th>\n",
       "      <th>online_security</th>\n",
       "      <th>online_backup</th>\n",
       "      <th>device_protection</th>\n",
       "      <th>tech_support</th>\n",
       "      <th>streaming_tv</th>\n",
       "      <th>streaming_movies</th>\n",
       "      <th>paperless_billing</th>\n",
       "      <th>monthly_charges</th>\n",
       "      <th>total_charges</th>\n",
       "      <th>churn</th>\n",
       "      <th>contract_type</th>\n",
       "      <th>internet_service_type</th>\n",
       "      <th>payment_type</th>\n",
       "    </tr>\n",
       "  </thead>\n",
       "  <tbody>\n",
       "    <tr>\n",
       "      <th>0</th>\n",
       "      <td>Female</td>\n",
       "      <td>0</td>\n",
       "      <td>Yes</td>\n",
       "      <td>Yes</td>\n",
       "      <td>9</td>\n",
       "      <td>Yes</td>\n",
       "      <td>No</td>\n",
       "      <td>No</td>\n",
       "      <td>Yes</td>\n",
       "      <td>No</td>\n",
       "      <td>Yes</td>\n",
       "      <td>Yes</td>\n",
       "      <td>No</td>\n",
       "      <td>Yes</td>\n",
       "      <td>65.6</td>\n",
       "      <td>593.30</td>\n",
       "      <td>No</td>\n",
       "      <td>One year</td>\n",
       "      <td>DSL</td>\n",
       "      <td>Mailed check</td>\n",
       "    </tr>\n",
       "    <tr>\n",
       "      <th>1</th>\n",
       "      <td>Male</td>\n",
       "      <td>0</td>\n",
       "      <td>No</td>\n",
       "      <td>No</td>\n",
       "      <td>9</td>\n",
       "      <td>Yes</td>\n",
       "      <td>Yes</td>\n",
       "      <td>No</td>\n",
       "      <td>No</td>\n",
       "      <td>No</td>\n",
       "      <td>No</td>\n",
       "      <td>No</td>\n",
       "      <td>Yes</td>\n",
       "      <td>No</td>\n",
       "      <td>59.9</td>\n",
       "      <td>542.40</td>\n",
       "      <td>No</td>\n",
       "      <td>Month-to-month</td>\n",
       "      <td>DSL</td>\n",
       "      <td>Mailed check</td>\n",
       "    </tr>\n",
       "    <tr>\n",
       "      <th>2</th>\n",
       "      <td>Male</td>\n",
       "      <td>0</td>\n",
       "      <td>No</td>\n",
       "      <td>No</td>\n",
       "      <td>4</td>\n",
       "      <td>Yes</td>\n",
       "      <td>No</td>\n",
       "      <td>No</td>\n",
       "      <td>No</td>\n",
       "      <td>Yes</td>\n",
       "      <td>No</td>\n",
       "      <td>No</td>\n",
       "      <td>No</td>\n",
       "      <td>Yes</td>\n",
       "      <td>73.9</td>\n",
       "      <td>280.85</td>\n",
       "      <td>Yes</td>\n",
       "      <td>Month-to-month</td>\n",
       "      <td>Fiber optic</td>\n",
       "      <td>Electronic check</td>\n",
       "    </tr>\n",
       "    <tr>\n",
       "      <th>3</th>\n",
       "      <td>Male</td>\n",
       "      <td>1</td>\n",
       "      <td>Yes</td>\n",
       "      <td>No</td>\n",
       "      <td>13</td>\n",
       "      <td>Yes</td>\n",
       "      <td>No</td>\n",
       "      <td>No</td>\n",
       "      <td>Yes</td>\n",
       "      <td>Yes</td>\n",
       "      <td>No</td>\n",
       "      <td>Yes</td>\n",
       "      <td>Yes</td>\n",
       "      <td>Yes</td>\n",
       "      <td>98.0</td>\n",
       "      <td>1237.85</td>\n",
       "      <td>Yes</td>\n",
       "      <td>Month-to-month</td>\n",
       "      <td>Fiber optic</td>\n",
       "      <td>Electronic check</td>\n",
       "    </tr>\n",
       "    <tr>\n",
       "      <th>4</th>\n",
       "      <td>Female</td>\n",
       "      <td>1</td>\n",
       "      <td>Yes</td>\n",
       "      <td>No</td>\n",
       "      <td>3</td>\n",
       "      <td>Yes</td>\n",
       "      <td>No</td>\n",
       "      <td>No</td>\n",
       "      <td>No</td>\n",
       "      <td>No</td>\n",
       "      <td>Yes</td>\n",
       "      <td>Yes</td>\n",
       "      <td>No</td>\n",
       "      <td>Yes</td>\n",
       "      <td>83.9</td>\n",
       "      <td>267.40</td>\n",
       "      <td>Yes</td>\n",
       "      <td>Month-to-month</td>\n",
       "      <td>Fiber optic</td>\n",
       "      <td>Mailed check</td>\n",
       "    </tr>\n",
       "  </tbody>\n",
       "</table>\n",
       "</div>"
      ],
      "text/plain": [
       "   gender  senior_citizen partner dependents  tenure phone_service  \\\n",
       "0  Female               0     Yes        Yes       9           Yes   \n",
       "1    Male               0      No         No       9           Yes   \n",
       "2    Male               0      No         No       4           Yes   \n",
       "3    Male               1     Yes         No      13           Yes   \n",
       "4  Female               1     Yes         No       3           Yes   \n",
       "\n",
       "  multiple_lines online_security online_backup device_protection tech_support  \\\n",
       "0             No              No           Yes                No          Yes   \n",
       "1            Yes              No            No                No           No   \n",
       "2             No              No            No               Yes           No   \n",
       "3             No              No           Yes               Yes           No   \n",
       "4             No              No            No                No          Yes   \n",
       "\n",
       "  streaming_tv streaming_movies paperless_billing  monthly_charges  \\\n",
       "0          Yes               No               Yes             65.6   \n",
       "1           No              Yes                No             59.9   \n",
       "2           No               No               Yes             73.9   \n",
       "3          Yes              Yes               Yes             98.0   \n",
       "4          Yes               No               Yes             83.9   \n",
       "\n",
       "   total_charges churn   contract_type internet_service_type      payment_type  \n",
       "0         593.30    No        One year                   DSL      Mailed check  \n",
       "1         542.40    No  Month-to-month                   DSL      Mailed check  \n",
       "2         280.85   Yes  Month-to-month           Fiber optic  Electronic check  \n",
       "3        1237.85   Yes  Month-to-month           Fiber optic  Electronic check  \n",
       "4         267.40   Yes  Month-to-month           Fiber optic      Mailed check  "
      ]
     },
     "execution_count": 44,
     "metadata": {},
     "output_type": "execute_result"
    }
   ],
   "source": [
    "df.head()"
   ]
  },
  {
   "cell_type": "code",
   "execution_count": 45,
   "metadata": {},
   "outputs": [
    {
     "data": {
      "text/plain": [
       "array(['Mailed check', 'Electronic check', 'Credit card (automatic)',\n",
       "       'Bank transfer (automatic)'], dtype=object)"
      ]
     },
     "execution_count": 45,
     "metadata": {},
     "output_type": "execute_result"
    }
   ],
   "source": [
    "df.payment_type.unique()"
   ]
  },
  {
   "cell_type": "code",
   "execution_count": 46,
   "metadata": {},
   "outputs": [],
   "source": [
    "df['payment_type'] = df['payment_type'].str.replace(' (automatic)', '')"
   ]
  },
  {
   "cell_type": "code",
   "execution_count": 47,
   "metadata": {},
   "outputs": [
    {
     "data": {
      "text/plain": [
       "array(['Mailed check', 'Electronic check', 'Credit card', 'Bank transfer'],\n",
       "      dtype=object)"
      ]
     },
     "execution_count": 47,
     "metadata": {},
     "output_type": "execute_result"
    }
   ],
   "source": [
    "df.payment_type.unique()"
   ]
  },
  {
   "cell_type": "code",
   "execution_count": 49,
   "metadata": {},
   "outputs": [],
   "source": [
    "# I want to split the churns between yes and no's and the cat / nums\n",
    "\n",
    "# separating our numeric and categorical columns:\n",
    "# initialize two empty lists for each type:\n",
    "cat_cols, num_cols = [], []\n",
    "# set up a for loop to build those lists out:\n",
    "# so for every column in explore_columns:\n",
    "for col in df:\n",
    "    # check to see if its an object type,\n",
    "    # if so toss it in categorical\n",
    "    if df[col].dtype == 'O':\n",
    "        cat_cols.append(col)\n",
    "    # otherwise if its numeric:\n",
    "    else:\n",
    "        # check to see if we have more than just a few values:\n",
    "        # if thats the case, toss it in categorical\n",
    "        if df[col].nunique() < 10:\n",
    "            cat_cols.append(col)\n",
    "        # and otherwise call it continuous by elimination\n",
    "        else:\n",
    "            num_cols.append(col)"
   ]
  },
  {
   "cell_type": "code",
   "execution_count": 50,
   "metadata": {},
   "outputs": [
    {
     "data": {
      "text/plain": [
       "['gender',\n",
       " 'senior_citizen',\n",
       " 'partner',\n",
       " 'dependents',\n",
       " 'phone_service',\n",
       " 'multiple_lines',\n",
       " 'online_security',\n",
       " 'online_backup',\n",
       " 'device_protection',\n",
       " 'tech_support',\n",
       " 'streaming_tv',\n",
       " 'streaming_movies',\n",
       " 'paperless_billing',\n",
       " 'churn',\n",
       " 'contract_type',\n",
       " 'internet_service_type',\n",
       " 'payment_type']"
      ]
     },
     "execution_count": 50,
     "metadata": {},
     "output_type": "execute_result"
    }
   ],
   "source": [
    "cat_cols"
   ]
  },
  {
   "cell_type": "code",
   "execution_count": 54,
   "metadata": {},
   "outputs": [
    {
     "data": {
      "text/plain": [
       "<Axes: xlabel='churn'>"
      ]
     },
     "execution_count": 54,
     "metadata": {},
     "output_type": "execute_result"
    },
    {
     "data": {
      "image/png": "[encoded data removed]",
      "text/plain": [
       "<Figure size 640x480 with 1 Axes>"
      ]
     },
     "metadata": {},
     "output_type": "display_data"
    }
   ],
   "source": [
    "# Now I want to create crosstabs for all the cats_cols with churn\n",
    "bar_by_cat = pd.crosstab(df['gender'], df['churn'])\n",
    "sns.barplot(bar_by_cat)\n"
   ]
  },
  {
   "cell_type": "code",
   "execution_count": null,
   "metadata": {},
   "outputs": [],
   "source": []
  }
 ],
 "metadata": {
  "kernelspec": {
   "display_name": "base",
   "language": "python",
   "name": "python3"
  },
  "language_info": {
   "codemirror_mode": {
    "name": "ipython",
    "version": 3
   },
   "file_extension": ".py",
   "mimetype": "text/x-python",
   "name": "python",
   "nbconvert_exporter": "python",
   "pygments_lexer": "ipython3",
   "version": "3.11.3"
  },
  "orig_nbformat": 4
 },
 "nbformat": 4,
 "nbformat_minor": 2
}
