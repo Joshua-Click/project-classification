{
 "cells": [
  {
   "cell_type": "code",
   "execution_count": null,
   "metadata": {},
   "outputs": [],
   "source": []
  },
  {
   "cell_type": "markdown",
   "metadata": {},
   "source": [
    "# Title"
   ]
  },
  {
   "cell_type": "markdown",
   "metadata": {},
   "source": [
    "## Imports"
   ]
  },
  {
   "cell_type": "markdown",
   "metadata": {},
   "source": [
    "## Acquire\n",
    "* Add information about how, where and when you acquired your data\n",
    "\n",
    "        I acquired the data from mysql on 21 Aug\n",
    "\n",
    "* How/where did you get your data?\n",
    "* When did you get your data?\n",
    "* What is the size of your data? (columns and rows)\n",
    "\n",
    "        Number of Rows and Cols in DF:\n",
    "        Rows: 7043, Cols: 24\n",
    "\n",
    "* What does each observation represent?\n",
    "\n",
    "        Each observation represents a customer in the Telco data set that has some sort of service they pay for.\n",
    "\n",
    "* What does each column represent?\n",
    "\n",
    "        Each column represents a demographic, what service they have or don't have, what kind of contract they have, how much they are charged, and how they are paying for said services."
   ]
  },
  {
   "cell_type": "markdown",
   "metadata": {},
   "source": [
    "## Prepare\n",
    "* List steps taken to clean your data here\n",
    "\n",
    "        1st - Dropped the columns: 'payment_type_id','internet_service_type_id','contract_type_id'\n",
    "            These columns are basically duplicates of infor presented in other columns\n",
    "        2nd - Changed 'total_charges' from an object to a float and changed the null values to 0's in the process\n",
    "            Column had nulls for custumers who just joined the past month.\n",
    "        3rd - Dropped the 'customer_id' column\n",
    "            Column was unique values that did not add value or utility to the data for the current questions needing answered and already had an easier to read index.\n",
    "        4th - Cleaned up 'payment_type' column\n",
    "            Got rid of the '(automatic)' string that was in the cells. The string did not assist in looking through the data.\n",
    "\n",
    "* In particular call out how you handle null values and outliers in detail\n",
    "* You must do this even if you do not do anything or do not encounter any\n",
    "* Any time there is potential to make changes to the data you must be upfront about the changes you make or do not make"
   ]
  },
  {
   "cell_type": "markdown",
   "metadata": {},
   "source": [
    "## Explore\n",
    "* Here you will explore your data then highlight 4 questions that you asked of the data and how those questions influenced your analysis\n",
    "\n",
    "        Which customers are more likely to churn?\n",
    "        What features do these customers have?\n",
    "        What features have more churn than others?\n",
    "        \n",
    "                Start with Online Security\n",
    "\n",
    "        How do I see the relationship between churn and these features?\n",
    "\n",
    "* Remember to split your data before exploring how different variables relate to one another\n",
    "* Each question should be stated directly\n",
    "* Each question should be supported by a visualization\n",
    "* Each question should be answered in natural language\n",
    "* Two questions must be supported by a statistical test, but you may choose to support more than two\n",
    "* See the following example, and read the comments in the next cell*"
   ]
  },
  {
   "cell_type": "markdown",
   "metadata": {},
   "source": [
    "The following empty code block is here to represent the countless questions, visualizations, and statistical tests that did not make your final report. Data scientist often create a myriad of questions, visualizations and statistical tests that do not make it into the final notebook. This is okay and expected. Remember that shotgun approaches to your data such as using pair plots to look at the relationships of each feature are a great way to explore your data, but they have no place in your final report. Your final report is about showing and supporting your findings, not showing the work you did to get there!"
   ]
  },
  {
   "cell_type": "markdown",
   "metadata": {},
   "source": [
    "## You may use this as a template for how to ask and answer each question:"
   ]
  },
  {
   "cell_type": "markdown",
   "metadata": {},
   "source": [
    "## 1) Question about the data\n",
    "\n",
    "* Ask a question about the data for which you got a meaningful result\n",
    "* There is no connection can be a meaningful result\n",
    "\n",
    "## 2) Visualization of the data answering the question\n",
    "\n",
    "* Visualizations should be accompanied by take-aways telling the reader exactly what you want them to get from the chart\n",
    "* You can include theses as bullet points under the chart\n",
    "* Use your chart title to provide the main take-away from each visualization\n",
    "* Each visualization should answer one, and only one, of the explore questions\n",
    "\n",
    "## 3) Statistical test\n",
    "\n",
    "* Be sure you are using the correct statistical test for the type of variables you are testing\n",
    "* Be sure that you are not violating any of the assumptions for the statistical test you are choosing\n",
    "* Your notebook should run and produce the results of the test you are using (This may be done through imports)\n",
    "* Include an introduction to the kind of test you are doing\n",
    "* Include the Ho and Ha for the test\n",
    "* Include the alpha you are using\n",
    "* Include the readout of the p-value for the test\n",
    "* Interpret the results of the test in natural language (I reject the null hypothesis is not sufficient)\n",
    "\n",
    "## 4) Answer to the question\n",
    "\n",
    "* Answer the question you posed of the data by referring to the chart and statistical test (if you used one)\n",
    "* If the question relates to drivers, explain why the feature in question would/wouldn't make a good driver\n"
   ]
  },
  {
   "cell_type": "markdown",
   "metadata": {},
   "source": [
    "## Exploration Summary\n",
    "\n",
    "* After your explore section, before you start modeling, provide a summary of your findings in Explore\n",
    "* Include a summary of your take-aways\n",
    "* Include a summary of the features you examined and weather or not you will be going to Modeling with each feature and why\n",
    "* It is important to note which features will be going into your model so the reader knows what features you are using to model on"
   ]
  },
  {
   "cell_type": "markdown",
   "metadata": {},
   "source": [
    "## Modeling\n",
    "### Introduction\n",
    "\n",
    "* Explain how you will be evaluating your models\n",
    "* Include the evaluation metric you will be using and why you have chosen it\n",
    "* Create a baseline and briefly explain how it was calculated"
   ]
  },
  {
   "cell_type": "markdown",
   "metadata": {},
   "source": []
  },
  {
   "cell_type": "markdown",
   "metadata": {},
   "source": [
    "### Best 3 Models\n",
    "\n",
    "* Show the three best model results obtained using your selected features to predict the target variable\n",
    "* Typically students will show the top models they are able to generate for three different model types"
   ]
  },
  {
   "cell_type": "markdown",
   "metadata": {},
   "source": [
    "## You may use this as a template for how to introduce your models:\n",
    "### Model Type"
   ]
  },
  {
   "cell_type": "markdown",
   "metadata": {},
   "source": [
    "Printout of model code should read: \n",
    "\n",
    "\"Model Type\" \n",
    "\n",
    "\"evaluation metric\" on train: \"evaluation result\" \n",
    "\n",
    "\"evaluation metric\" on validate: \"evaluation result\""
   ]
  },
  {
   "cell_type": "markdown",
   "metadata": {},
   "source": [
    "### Test Model\n",
    "\n",
    "* Choose the best model out of the three as you best model and explain why you have chosen it\n",
    "* Explain that you will now run your final model on test data to gauge how it will perform on unseen data"
   ]
  },
  {
   "cell_type": "markdown",
   "metadata": {},
   "source": [
    "### Modeling Wrap\n",
    "\n",
    "* Give a final interpretation of how the models test score compares to the baseline and weather you would recommend this model for production"
   ]
  },
  {
   "cell_type": "markdown",
   "metadata": {},
   "source": [
    "## Conclusion\n",
    "\n",
    "### Summary\n",
    "\n",
    "* Summarize your findings and answer the questions you brought up in explore\n",
    "* Summarize how drivers discovered lead or did not lead to a successful model"
   ]
  },
  {
   "cell_type": "markdown",
   "metadata": {},
   "source": [
    "### Recommendations\n",
    "\n",
    "* Recommendations are actions the stakeholder should take based on your insights\n"
   ]
  },
  {
   "cell_type": "markdown",
   "metadata": {},
   "source": [
    "## README\n",
    "\n",
    "Your README should contain all of the following elements:\n",
    "\n",
    "* Title Gives the name of your project\n",
    "* Project Description Describes what your project is and why it is important\n",
    "* Project Goal Clearly states what your project sets out to do and how the information gained can be applied to the real world\n",
    "* Initial Hypotheses Initial questions used to focus your project\n",
    "* Project Plan Guides the reader through the different stages of the pipeline as they relate to your project\n",
    "* Data Dictionary Gives a definition for each of the features used in your report and the units they are measured in, if applicable\n",
    "* Steps to Reproduce Gives instructions for reproducing your work. i.e. Running your notebook on someone else's computer."
   ]
  },
  {
   "cell_type": "markdown",
   "metadata": {},
   "source": []
  }
 ],
 "metadata": {
  "kernelspec": {
   "display_name": "base",
   "language": "python",
   "name": "python3"
  },
  "language_info": {
   "codemirror_mode": {
    "name": "ipython",
    "version": 3
   },
   "file_extension": ".py",
   "mimetype": "text/x-python",
   "name": "python",
   "nbconvert_exporter": "python",
   "pygments_lexer": "ipython3",
   "version": "3.11.3"
  },
  "orig_nbformat": 4
 },
 "nbformat": 4,
 "nbformat_minor": 2
}
